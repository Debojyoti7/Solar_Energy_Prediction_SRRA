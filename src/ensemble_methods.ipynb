{
 "cells": [
  {
   "cell_type": "code",
   "execution_count": 2,
   "id": "78790a5b",
   "metadata": {},
   "outputs": [],
   "source": [
    "import numpy as np # linear algebra\n",
    "import pandas as pd # data processing, CSV file I/O (e.g. pd.read_csv)\n",
    "\n",
    "import os\n",
    "\n",
    "\n",
    "import pandas as pd\n",
    "import numpy as np\n",
    "from sklearn.model_selection import train_test_split\n",
    "from sklearn.metrics import mean_squared_error\n",
    "import math\n",
    "import seaborn as sns\n",
    "import matplotlib.pyplot as plt\n",
    "%matplotlib inline\n",
    "from xgboost import XGBRegressor\n",
    "from sklearn.model_selection import GridSearchCV, RandomizedSearchCV\n",
    "from sklearn.tree import DecisionTreeRegressor\n",
    "from sklearn.experimental import enable_hist_gradient_boosting\n",
    "from sklearn.ensemble import RandomForestRegressor, GradientBoostingRegressor, AdaBoostRegressor, HistGradientBoostingRegressor, VotingRegressor, StackingRegressor, ExtraTreesRegressor\n",
    "from lightgbm import LGBMRegressor\n",
    "from sklearn.naive_bayes import GaussianNB\n",
    "from tensorflow.python.client import device_lib"
   ]
  },
  {
   "cell_type": "code",
   "execution_count": 2,
   "id": "f0797575",
   "metadata": {},
   "outputs": [
    {
     "data": {
      "text/html": [
       "<div>\n",
       "<style scoped>\n",
       "    .dataframe tbody tr th:only-of-type {\n",
       "        vertical-align: middle;\n",
       "    }\n",
       "\n",
       "    .dataframe tbody tr th {\n",
       "        vertical-align: top;\n",
       "    }\n",
       "\n",
       "    .dataframe thead th {\n",
       "        text-align: right;\n",
       "    }\n",
       "</style>\n",
       "<table border=\"1\" class=\"dataframe\">\n",
       "  <thead>\n",
       "    <tr style=\"text-align: right;\">\n",
       "      <th></th>\n",
       "      <th>Timestamp</th>\n",
       "      <th>Battery_Level_Avg</th>\n",
       "      <th>Relative_Humidity_Avg</th>\n",
       "      <th>Rain_Accu_mm</th>\n",
       "      <th>Air_Temperature_Avg</th>\n",
       "      <th>Air_Temperature_Max</th>\n",
       "      <th>Air_Temperature_Min</th>\n",
       "      <th>Wind_Speed_Avg</th>\n",
       "      <th>Wind_Speed_Max</th>\n",
       "      <th>Wind_Speed_Sdev</th>\n",
       "      <th>...</th>\n",
       "      <th>Solar_Azimuth_Avg</th>\n",
       "      <th>Direct_Theoretical_Radiation_Avg</th>\n",
       "      <th>Pyrheliometer_Error_1_Avg</th>\n",
       "      <th>Geotrac3K_Status_Logic_OR_Status</th>\n",
       "      <th>Access_Control_Logic_OR_Status</th>\n",
       "      <th>Global_Energy_1 _Avg</th>\n",
       "      <th>Diffuse_Energy_1_Avg</th>\n",
       "      <th>Direct_Energy_1_Avg</th>\n",
       "      <th>Day</th>\n",
       "      <th>Power</th>\n",
       "    </tr>\n",
       "  </thead>\n",
       "  <tbody>\n",
       "    <tr>\n",
       "      <th>0</th>\n",
       "      <td>2/1/2018 0:00</td>\n",
       "      <td>13.43693</td>\n",
       "      <td>65.072182</td>\n",
       "      <td>0.0</td>\n",
       "      <td>18.253019</td>\n",
       "      <td>18.313231</td>\n",
       "      <td>18.213110</td>\n",
       "      <td>1.2299</td>\n",
       "      <td>1.960</td>\n",
       "      <td>0.477567</td>\n",
       "      <td>...</td>\n",
       "      <td>254.903107</td>\n",
       "      <td>0.0</td>\n",
       "      <td>0.0</td>\n",
       "      <td>0</td>\n",
       "      <td>0</td>\n",
       "      <td>0.000003</td>\n",
       "      <td>0.000002</td>\n",
       "      <td>0.000031</td>\n",
       "      <td>32</td>\n",
       "      <td>20.599508</td>\n",
       "    </tr>\n",
       "    <tr>\n",
       "      <th>1</th>\n",
       "      <td>2/1/2018 0:01</td>\n",
       "      <td>13.43391</td>\n",
       "      <td>65.232132</td>\n",
       "      <td>0.0</td>\n",
       "      <td>18.249380</td>\n",
       "      <td>18.285450</td>\n",
       "      <td>18.216471</td>\n",
       "      <td>1.5043</td>\n",
       "      <td>2.058</td>\n",
       "      <td>0.267083</td>\n",
       "      <td>...</td>\n",
       "      <td>254.903107</td>\n",
       "      <td>0.0</td>\n",
       "      <td>0.0</td>\n",
       "      <td>0</td>\n",
       "      <td>0</td>\n",
       "      <td>0.000002</td>\n",
       "      <td>0.000002</td>\n",
       "      <td>0.000031</td>\n",
       "      <td>32</td>\n",
       "      <td>20.599615</td>\n",
       "    </tr>\n",
       "  </tbody>\n",
       "</table>\n",
       "<p>2 rows × 44 columns</p>\n",
       "</div>"
      ],
      "text/plain": [
       "       Timestamp  Battery_Level_Avg  Relative_Humidity_Avg  Rain_Accu_mm  \\\n",
       "0  2/1/2018 0:00           13.43693              65.072182           0.0   \n",
       "1  2/1/2018 0:01           13.43391              65.232132           0.0   \n",
       "\n",
       "   Air_Temperature_Avg  Air_Temperature_Max  Air_Temperature_Min  \\\n",
       "0            18.253019            18.313231            18.213110   \n",
       "1            18.249380            18.285450            18.216471   \n",
       "\n",
       "   Wind_Speed_Avg  Wind_Speed_Max  Wind_Speed_Sdev  ...  Solar_Azimuth_Avg  \\\n",
       "0          1.2299           1.960         0.477567  ...         254.903107   \n",
       "1          1.5043           2.058         0.267083  ...         254.903107   \n",
       "\n",
       "   Direct_Theoretical_Radiation_Avg  Pyrheliometer_Error_1_Avg  \\\n",
       "0                               0.0                        0.0   \n",
       "1                               0.0                        0.0   \n",
       "\n",
       "   Geotrac3K_Status_Logic_OR_Status  Access_Control_Logic_OR_Status  \\\n",
       "0                                 0                               0   \n",
       "1                                 0                               0   \n",
       "\n",
       "   Global_Energy_1 _Avg  Diffuse_Energy_1_Avg  Direct_Energy_1_Avg  Day  \\\n",
       "0              0.000003              0.000002             0.000031   32   \n",
       "1              0.000002              0.000002             0.000031   32   \n",
       "\n",
       "       Power  \n",
       "0  20.599508  \n",
       "1  20.599615  \n",
       "\n",
       "[2 rows x 44 columns]"
      ]
     },
     "execution_count": 2,
     "metadata": {},
     "output_type": "execute_result"
    }
   ],
   "source": [
    "import pandas as pd\n",
    "csv1 = \"solar_dataset.csv\"\n",
    "df = pd.read_csv(csv1)\n",
    "df.head(2)"
   ]
  },
  {
   "cell_type": "code",
   "execution_count": 3,
   "id": "6428b877",
   "metadata": {},
   "outputs": [],
   "source": [
    "df=df.drop(['Timestamp','Solar_Elevation_Avg','Day', 'Direct_Radiation_1_Integr', 'Direct_Radiation_1_Ins','Solar_Azimuth_Ins','Solar_Elevation_Ins',\n",
    "            'Inclined_Solar_Radiation_Integr','Inclined_Solar_Radiation_Ins', 'Horizontal_Solar_Radiation_Integr','Horizontal_Solar_Radiation_Ins',\n",
    "            'Diffuse_Radiation_Integr','Diffuse_Radiation_Ins','Global_Radiation_1_Integr',  'Global_Radiation_1_Ins',  'Wind_Direction_Max', 'Wind_Direction_Sdev', 'Wind_Speed_Max', 'Wind_Speed_Sdev','Air_Temperature_Max', 'Air_Temperature_Min',\n",
    "            'Battery_Level_Avg','Pyrheliometer_Error_1_Avg','Geotrac3K_Status_Logic_OR_Status',  'Access_Control_Logic_OR_Status'],axis=1)\n",
    "df.rename(columns = {' Horizontal_Solar_Radiation_Avg':'Horizontal_Solar_Radiation_Avg'}, inplace = True)\n",
    "df.rename(columns = {'Direct_Radiation_1_Avg':'Direct_Radiation_Avg','Global_Energy_1 _Avg':'Global_Energy_Avg','Direct_Energy_1_Avg':'Direct_Energy_Avg','Global_Radiation_1_Avg':'Global_Radiation_Avg','Diffuse_Energy_1_Avg':'Diffuse_Energy_Avg'}, inplace = True)"
   ]
  },
  {
   "cell_type": "code",
   "execution_count": 4,
   "id": "33596033",
   "metadata": {},
   "outputs": [],
   "source": [
    "column_to_drop=['Dew_Point_Avg',\n",
    " 'Rain_Accu_mm',\n",
    " 'Atmospheric_Pressure_QNH_Avg',\n",
    " 'Atmospheric_Pressure_QFE_Avg',\n",
    " 'Direct_Theoretical_Radiation_Avg',\n",
    " 'Horizontal_Solar_Radiation_Avg',\n",
    " 'Global_Energy_Avg',\n",
    " 'Diffuse_Energy_Avg',\n",
    " 'Direct_Energy_Avg',\n",
    " 'Wind_Direction_Avg']\n",
    "df=df.drop(column_to_drop,axis=1)"
   ]
  },
  {
   "cell_type": "code",
   "execution_count": 5,
   "id": "9413e0c1",
   "metadata": {},
   "outputs": [
    {
     "data": {
      "text/plain": [
       "Index(['Relative_Humidity_Avg', 'Air_Temperature_Avg', 'Wind_Speed_Avg',\n",
       "       'Global_Radiation_Avg', 'Diffuse_Radiation_Avg', 'Direct_Radiation_Avg',\n",
       "       'Inclined_Solar_Radiation_Avg', 'Solar_Azimuth_Avg', 'Power'],\n",
       "      dtype='object')"
      ]
     },
     "execution_count": 5,
     "metadata": {},
     "output_type": "execute_result"
    }
   ],
   "source": [
    "df.columns"
   ]
  },
  {
   "cell_type": "code",
   "execution_count": 6,
   "id": "faa357fc",
   "metadata": {},
   "outputs": [],
   "source": [
    "df = df[df['Power'] >= 500] "
   ]
  },
  {
   "cell_type": "code",
   "execution_count": 7,
   "id": "cbd5464a",
   "metadata": {},
   "outputs": [
    {
     "data": {
      "text/plain": [
       "(92684, 9)"
      ]
     },
     "execution_count": 7,
     "metadata": {},
     "output_type": "execute_result"
    }
   ],
   "source": [
    "df.shape"
   ]
  },
  {
   "cell_type": "code",
   "execution_count": 8,
   "id": "a2344289",
   "metadata": {},
   "outputs": [],
   "source": [
    "def split_data(df):\n",
    "    X = df.drop(columns=['Power'])\n",
    "    pac = df['Power'].values\n",
    "    train_size = int(0.8*len(pac)) ##80% train \n",
    "    X_train ,  X_test  =   X.iloc[:train_size,:],   X.iloc[train_size:,:];\n",
    "    pac_train, pac_test= pac[:train_size],   pac[train_size:];\n",
    "    #filter out pac=0\n",
    "    ix = pac_test > 0\n",
    "    pac_test = pac_test[ix]\n",
    "    X_test = X_test[ix]\n",
    "    return X_train, X_test, pac_train, pac_test;\n",
    "\n",
    "X_train, X_test, y_train, y_test = split_data(df)"
   ]
  },
  {
   "cell_type": "code",
   "execution_count": 9,
   "id": "c0007895",
   "metadata": {},
   "outputs": [
    {
     "data": {
      "text/plain": [
       "RandomForestRegressor(bootstrap=False, max_depth=60, max_features='sqrt',\n",
       "                      min_samples_split=4, n_estimators=1700)"
      ]
     },
     "execution_count": 9,
     "metadata": {},
     "output_type": "execute_result"
    }
   ],
   "source": [
    "RF_f=RandomForestRegressor(bootstrap=False, max_depth=60, max_features='sqrt', min_samples_split=4, n_estimators=1700)\n",
    "RF_f.fit(X_train,y_train)"
   ]
  },
  {
   "cell_type": "code",
   "execution_count": 10,
   "id": "863b8a0b",
   "metadata": {},
   "outputs": [
    {
     "data": {
      "text/plain": [
       "ExtraTreesRegressor(n_estimators=1000, random_state=73)"
      ]
     },
     "execution_count": 10,
     "metadata": {},
     "output_type": "execute_result"
    }
   ],
   "source": [
    "XT=ExtraTreesRegressor(n_estimators=1000,random_state=73)\n",
    "XT.fit(X_train,y_train)"
   ]
  },
  {
   "cell_type": "code",
   "execution_count": 11,
   "id": "f9fd5dde",
   "metadata": {},
   "outputs": [
    {
     "data": {
      "text/plain": [
       "AdaBoostRegressor(learning_rate=0.03, loss='exponential', n_estimators=2300,\n",
       "                  random_state=73)"
      ]
     },
     "execution_count": 11,
     "metadata": {},
     "output_type": "execute_result"
    }
   ],
   "source": [
    "Ada_f=AdaBoostRegressor(learning_rate=0.03, loss='exponential', n_estimators=2300, random_state=73)\n",
    "Ada_f.fit(X_train,y_train)\n"
   ]
  },
  {
   "cell_type": "code",
   "execution_count": 12,
   "id": "89bb8106",
   "metadata": {},
   "outputs": [
    {
     "name": "stdout",
     "output_type": "stream",
     "text": [
      "Ada_f\n",
      "XT\n",
      "RF_f\n"
     ]
    }
   ],
   "source": [
    "import pickle\n",
    "path = \"reduced_data_models/\"\n",
    "\n",
    "models={\"Ada_f\":Ada_f,\"XT\":XT,\"RF_f\":RF_f}\n",
    "\n",
    "for key,model in models.items():\n",
    " \n",
    "  filename = path + str(key) + \".sav\"\n",
    "  pickle.dump(model, open(filename, 'wb'))\n",
    "  print(key)"
   ]
  },
  {
   "cell_type": "code",
   "execution_count": 10,
   "id": "47c4a9e3",
   "metadata": {},
   "outputs": [
    {
     "data": {
      "text/plain": [
       "GradientBoostingRegressor(max_depth=10, max_features='sqrt',\n",
       "                          min_samples_split=12, n_estimators=1500)"
      ]
     },
     "execution_count": 10,
     "metadata": {},
     "output_type": "execute_result"
    }
   ],
   "source": [
    "GB_f=GradientBoostingRegressor(max_depth=10, max_features='sqrt',\n",
    "                          min_samples_split=12, n_estimators=1500)\n",
    "GB_f.fit(X_train,y_train)\n"
   ]
  },
  {
   "cell_type": "code",
   "execution_count": 11,
   "id": "d0ec640e",
   "metadata": {},
   "outputs": [
    {
     "data": {
      "text/plain": [
       "HistGradientBoostingRegressor(learning_rate=0.02,\n",
       "                              loss='least_absolute_deviation', max_depth=40,\n",
       "                              max_iter=750, min_samples_leaf=2,\n",
       "                              random_state=73)"
      ]
     },
     "execution_count": 11,
     "metadata": {},
     "output_type": "execute_result"
    }
   ],
   "source": [
    "HGB_f=HistGradientBoostingRegressor(learning_rate=0.02, loss='least_absolute_deviation', max_depth=40, max_iter=750, min_samples_leaf=2, random_state=73)\n",
    "HGB_f.fit(X_train,y_train)"
   ]
  },
  {
   "cell_type": "code",
   "execution_count": 12,
   "id": "902ad1b9",
   "metadata": {},
   "outputs": [
    {
     "data": {
      "text/plain": [
       "XGBRegressor(base_score=0.5, booster='gbtree', colsample_bylevel=1,\n",
       "             colsample_bynode=1, colsample_bytree=1, enable_categorical=False,\n",
       "             gamma=0, gpu_id=-1, importance_type=None,\n",
       "             interaction_constraints='', learning_rate=0.05, max_delta_step=0,\n",
       "             max_depth=6, min_child_weight=1, missing=nan,\n",
       "             monotone_constraints='()', n_estimators=1200, n_jobs=16,\n",
       "             num_parallel_tree=1, predictor='auto', random_state=73,\n",
       "             reg_alpha=0, reg_lambda=1, scale_pos_weight=1, subsample=1,\n",
       "             tree_method='exact', validate_parameters=1, verbosity=None)"
      ]
     },
     "execution_count": 12,
     "metadata": {},
     "output_type": "execute_result"
    }
   ],
   "source": [
    "XGB=XGBRegressor(n_estimators=1200,learning_rate=0.05,random_state=73)\n",
    "XGB.fit(X_train,y_train)\n"
   ]
  },
  {
   "cell_type": "code",
   "execution_count": 13,
   "id": "65852a36",
   "metadata": {},
   "outputs": [
    {
     "name": "stdout",
     "output_type": "stream",
     "text": [
      "[LightGBM] [Warning] feature_fraction is set=0.2319, colsample_bytree=1.0 will be ignored. Current value: feature_fraction=0.2319\n",
      "[LightGBM] [Warning] min_data_in_leaf is set=6, min_child_samples=20 will be ignored. Current value: min_data_in_leaf=6\n",
      "[LightGBM] [Warning] min_sum_hessian_in_leaf is set=11, min_child_weight=0.001 will be ignored. Current value: min_sum_hessian_in_leaf=11\n",
      "[LightGBM] [Warning] bagging_fraction is set=0.8, subsample=1.0 will be ignored. Current value: bagging_fraction=0.8\n",
      "[LightGBM] [Warning] bagging_freq is set=5, subsample_freq=0 will be ignored. Current value: bagging_freq=5\n"
     ]
    },
    {
     "data": {
      "text/plain": [
       "LGBMRegressor(bagging_fraction=0.8, bagging_freq=5, bagging_seed=9,\n",
       "              feature_fraction=0.2319, feature_fraction_seed=9,\n",
       "              learning_rate=0.05, max_bin=55, min_data_in_leaf=6,\n",
       "              min_sum_hessian_in_leaf=11, n_estimators=720, num_leaves=5,\n",
       "              objective='regression')"
      ]
     },
     "execution_count": 13,
     "metadata": {},
     "output_type": "execute_result"
    }
   ],
   "source": [
    "LGBg_f=LGBMRegressor(objective='regression',num_leaves=5,  learning_rate=0.05, n_estimators=720, max_bin = 55, bagging_fraction = 0.8,\n",
    "                              bagging_freq = 5, feature_fraction = 0.2319,\n",
    "                              feature_fraction_seed=9, bagging_seed=9,\n",
    "                              min_data_in_leaf =6, min_sum_hessian_in_leaf = 11)\n",
    "LGBg_f.fit(X_train,y_train)"
   ]
  },
  {
   "cell_type": "code",
   "execution_count": 16,
   "id": "3edd68fc",
   "metadata": {},
   "outputs": [
    {
     "name": "stdout",
     "output_type": "stream",
     "text": [
      "HGB_f\n",
      "XGB\n",
      "GB_f\n",
      "LGBg_f\n"
     ]
    }
   ],
   "source": [
    "import pickle\n",
    "import joblib\n",
    "path = \"reduced_data_models/\"\n",
    "model={}\n",
    "models={\"HGB_f\":HGB_f,\"XGB\":XGB,\"GB_f\":GB_f,\"LGBg_f\":LGBg_f}\n",
    "\n",
    "for key,model in models.items():\n",
    "  filename = path + str(key) + \".sav\" \n",
    "  joblib.dump(model, filename)  \n",
    "  print(key)"
   ]
  },
  {
   "cell_type": "code",
   "execution_count": 10,
   "id": "ce82aeb2",
   "metadata": {},
   "outputs": [
    {
     "name": "stdout",
     "output_type": "stream",
     "text": [
      "344.99344072381683\n",
      "HGB_f\n",
      "352.66521345638074\n",
      "XGB\n",
      "410.3264568288198\n",
      "GB_f\n",
      "351.3868008347868\n",
      "LGBg_f\n",
      "358.79608343077206\n",
      "XT\n",
      "367.44581701268083\n",
      "RF_f\n",
      "1028.9803241826203\n",
      "Ada_f\n"
     ]
    }
   ],
   "source": [
    "import pickle\n",
    "import joblib\n",
    "from sklearn.metrics import mean_squared_error\n",
    "from math import sqrt\n",
    "\n",
    "\n",
    "\n",
    "path = \"reduced_data_models/\"\n",
    "\n",
    "models=[\"HGB_f\",\"XGB\",\"GB_f\",\"LGBg_f\",\"XT\",\"RF_f\",\"Ada_f\"]\n",
    "#model_names=[\"Random Forest Regressor\"]\n",
    "\n",
    "rmse_dict={}\n",
    "\n",
    "for model in models:\n",
    " \n",
    "  filename = path + str(model) + \".sav\" \n",
    "  m=joblib.load(filename, mmap_mode=None)  \n",
    "  \n",
    "  y_predicted=m.predict(X_test)\n",
    "\n",
    "\n",
    "  rmse = sqrt(mean_squared_error(y_test, y_predicted))\n",
    "  print(rmse)\n",
    "  rmse_dict[model]=rmse\n",
    "  print(model)\n",
    "  m=0\n",
    "\n"
   ]
  },
  {
   "cell_type": "code",
   "execution_count": 11,
   "id": "09c0d4df",
   "metadata": {},
   "outputs": [
    {
     "data": {
      "text/html": [
       "<div>\n",
       "<style scoped>\n",
       "    .dataframe tbody tr th:only-of-type {\n",
       "        vertical-align: middle;\n",
       "    }\n",
       "\n",
       "    .dataframe tbody tr th {\n",
       "        vertical-align: top;\n",
       "    }\n",
       "\n",
       "    .dataframe thead th {\n",
       "        text-align: right;\n",
       "    }\n",
       "</style>\n",
       "<table border=\"1\" class=\"dataframe\">\n",
       "  <thead>\n",
       "    <tr style=\"text-align: right;\">\n",
       "      <th></th>\n",
       "      <th>RMSE</th>\n",
       "    </tr>\n",
       "  </thead>\n",
       "  <tbody>\n",
       "    <tr>\n",
       "      <th>HGB_f</th>\n",
       "      <td>344.993441</td>\n",
       "    </tr>\n",
       "    <tr>\n",
       "      <th>LGBg_f</th>\n",
       "      <td>351.386801</td>\n",
       "    </tr>\n",
       "    <tr>\n",
       "      <th>XGB</th>\n",
       "      <td>352.665213</td>\n",
       "    </tr>\n",
       "    <tr>\n",
       "      <th>XT</th>\n",
       "      <td>358.796083</td>\n",
       "    </tr>\n",
       "    <tr>\n",
       "      <th>RF_f</th>\n",
       "      <td>367.445817</td>\n",
       "    </tr>\n",
       "    <tr>\n",
       "      <th>GB_f</th>\n",
       "      <td>410.326457</td>\n",
       "    </tr>\n",
       "    <tr>\n",
       "      <th>Ada_f</th>\n",
       "      <td>1028.980324</td>\n",
       "    </tr>\n",
       "  </tbody>\n",
       "</table>\n",
       "</div>"
      ],
      "text/plain": [
       "               RMSE\n",
       "HGB_f    344.993441\n",
       "LGBg_f   351.386801\n",
       "XGB      352.665213\n",
       "XT       358.796083\n",
       "RF_f     367.445817\n",
       "GB_f     410.326457\n",
       "Ada_f   1028.980324"
      ]
     },
     "execution_count": 11,
     "metadata": {},
     "output_type": "execute_result"
    }
   ],
   "source": [
    "model_name_list=list(rmse_dict.keys())#[\"Stacking Regressor\",\"Voting Regressor\",\"nb\",\"HGB_f\",\"XGB\",\"GB_f\",\"LGBg_f\",\"XT\",\"RF_f\",\"Ada_f\"]\n",
    "results = pd.DataFrame(columns=['RMSE'], index = model_name_list)\n",
    "for i in range(0, len(model_name_list)):\n",
    "  results.iloc[i, :] = [rmse_dict[model_name_list[i]]]\n",
    "results\n",
    "results.sort_values(\"RMSE\")"
   ]
  },
  {
   "cell_type": "code",
   "execution_count": 12,
   "id": "9223e455",
   "metadata": {},
   "outputs": [],
   "source": [
    "XT=ExtraTreesRegressor(n_estimators=1000,random_state=73)\n",
    "\n",
    "\n",
    "HGB_f=HistGradientBoostingRegressor(learning_rate=0.02,\n",
    "                              loss='least_absolute_deviation', max_depth=40,\n",
    "                              max_iter=750, min_samples_leaf=2,\n",
    "                              random_state=73)\n",
    "XGB=XGBRegressor(n_estimators=1200,learning_rate=0.05,random_state=73)\n",
    "\n",
    "LGBg_f=LGBMRegressor(objective='regression',num_leaves=5,  learning_rate=0.05, n_estimators=720, max_bin = 55, bagging_fraction = 0.8,\n",
    "                              bagging_freq = 5, feature_fraction = 0.2319,\n",
    "                              feature_fraction_seed=9, bagging_seed=9,\n",
    "                              min_data_in_leaf =6, min_sum_hessian_in_leaf = 11)"
   ]
  },
  {
   "cell_type": "code",
   "execution_count": 13,
   "id": "cfb53036",
   "metadata": {},
   "outputs": [
    {
     "name": "stdout",
     "output_type": "stream",
     "text": [
      "[LightGBM] [Warning] feature_fraction is set=0.2319, colsample_bytree=1.0 will be ignored. Current value: feature_fraction=0.2319\n",
      "[LightGBM] [Warning] min_data_in_leaf is set=6, min_child_samples=20 will be ignored. Current value: min_data_in_leaf=6\n",
      "[LightGBM] [Warning] min_sum_hessian_in_leaf is set=11, min_child_weight=0.001 will be ignored. Current value: min_sum_hessian_in_leaf=11\n",
      "[LightGBM] [Warning] bagging_fraction is set=0.8, subsample=1.0 will be ignored. Current value: bagging_fraction=0.8\n",
      "[LightGBM] [Warning] bagging_freq is set=5, subsample_freq=0 will be ignored. Current value: bagging_freq=5\n",
      "[LightGBM] [Warning] feature_fraction is set=0.2319, colsample_bytree=1.0 will be ignored. Current value: feature_fraction=0.2319\n",
      "[LightGBM] [Warning] min_data_in_leaf is set=6, min_child_samples=20 will be ignored. Current value: min_data_in_leaf=6\n",
      "[LightGBM] [Warning] min_sum_hessian_in_leaf is set=11, min_child_weight=0.001 will be ignored. Current value: min_sum_hessian_in_leaf=11\n",
      "[LightGBM] [Warning] bagging_fraction is set=0.8, subsample=1.0 will be ignored. Current value: bagging_fraction=0.8\n",
      "[LightGBM] [Warning] bagging_freq is set=5, subsample_freq=0 will be ignored. Current value: bagging_freq=5\n",
      "[LightGBM] [Warning] feature_fraction is set=0.2319, colsample_bytree=1.0 will be ignored. Current value: feature_fraction=0.2319\n",
      "[LightGBM] [Warning] min_data_in_leaf is set=6, min_child_samples=20 will be ignored. Current value: min_data_in_leaf=6\n",
      "[LightGBM] [Warning] min_sum_hessian_in_leaf is set=11, min_child_weight=0.001 will be ignored. Current value: min_sum_hessian_in_leaf=11\n",
      "[LightGBM] [Warning] bagging_fraction is set=0.8, subsample=1.0 will be ignored. Current value: bagging_fraction=0.8\n",
      "[LightGBM] [Warning] bagging_freq is set=5, subsample_freq=0 will be ignored. Current value: bagging_freq=5\n",
      "[LightGBM] [Warning] feature_fraction is set=0.2319, colsample_bytree=1.0 will be ignored. Current value: feature_fraction=0.2319\n",
      "[LightGBM] [Warning] min_data_in_leaf is set=6, min_child_samples=20 will be ignored. Current value: min_data_in_leaf=6\n",
      "[LightGBM] [Warning] min_sum_hessian_in_leaf is set=11, min_child_weight=0.001 will be ignored. Current value: min_sum_hessian_in_leaf=11\n",
      "[LightGBM] [Warning] bagging_fraction is set=0.8, subsample=1.0 will be ignored. Current value: bagging_fraction=0.8\n",
      "[LightGBM] [Warning] bagging_freq is set=5, subsample_freq=0 will be ignored. Current value: bagging_freq=5\n",
      "[LightGBM] [Warning] feature_fraction is set=0.2319, colsample_bytree=1.0 will be ignored. Current value: feature_fraction=0.2319\n",
      "[LightGBM] [Warning] min_data_in_leaf is set=6, min_child_samples=20 will be ignored. Current value: min_data_in_leaf=6\n",
      "[LightGBM] [Warning] min_sum_hessian_in_leaf is set=11, min_child_weight=0.001 will be ignored. Current value: min_sum_hessian_in_leaf=11\n",
      "[LightGBM] [Warning] bagging_fraction is set=0.8, subsample=1.0 will be ignored. Current value: bagging_fraction=0.8\n",
      "[LightGBM] [Warning] bagging_freq is set=5, subsample_freq=0 will be ignored. Current value: bagging_freq=5\n"
     ]
    },
    {
     "data": {
      "text/plain": [
       "StackingRegressor(estimators=[('lgbgf',\n",
       "                               LGBMRegressor(bagging_fraction=0.8,\n",
       "                                             bagging_freq=5, bagging_seed=9,\n",
       "                                             feature_fraction=0.2319,\n",
       "                                             feature_fraction_seed=9,\n",
       "                                             learning_rate=0.05, max_bin=55,\n",
       "                                             min_data_in_leaf=6,\n",
       "                                             min_sum_hessian_in_leaf=11,\n",
       "                                             n_estimators=720, num_leaves=5,\n",
       "                                             objective='regression')),\n",
       "                              ('xt',\n",
       "                               ExtraTreesRegressor(n_estimators=1000,\n",
       "                                                   random_state=73)),\n",
       "                              ('xgb...\n",
       "                                            validate_parameters=None,\n",
       "                                            verbosity=None)),\n",
       "                              ('hgb',\n",
       "                               HistGradientBoostingRegressor(learning_rate=0.02,\n",
       "                                                             loss='least_absolute_deviation',\n",
       "                                                             max_depth=40,\n",
       "                                                             max_iter=750,\n",
       "                                                             min_samples_leaf=2,\n",
       "                                                             random_state=73))],\n",
       "                  final_estimator=HistGradientBoostingRegressor(learning_rate=0.02,\n",
       "                                                                loss='least_absolute_deviation',\n",
       "                                                                max_depth=40,\n",
       "                                                                max_iter=750,\n",
       "                                                                min_samples_leaf=2,\n",
       "                                                                random_state=73))"
      ]
     },
     "execution_count": 13,
     "metadata": {},
     "output_type": "execute_result"
    }
   ],
   "source": [
    "estimators=[('lgbgf',LGBg_f),('xt',XT),('xgb',XGB),('hgb',HGB_f)]\n",
    "Stack=StackingRegressor(estimators=estimators,final_estimator=HGB_f)\n",
    "Stack.fit(X_train,y_train)\n"
   ]
  },
  {
   "cell_type": "code",
   "execution_count": 14,
   "id": "9028ea8f",
   "metadata": {},
   "outputs": [
    {
     "name": "stdout",
     "output_type": "stream",
     "text": [
      "Stack_2\n"
     ]
    }
   ],
   "source": [
    "import pickle\n",
    "import joblib\n",
    "path = \"reduced_data_models/\"\n",
    "\n",
    "models={\"Stack_2\":Stack}\n",
    "\n",
    "for key,model in models.items():\n",
    " \n",
    "  filename = path + str(key) + \".sav\"\n",
    "  #pickle.dump(model, open(filename, 'wb'))\n",
    "  #filename = 'finalized_model.sav'\n",
    "  joblib.dump(model, filename)  \n",
    "  print(key)\n"
   ]
  },
  {
   "cell_type": "code",
   "execution_count": 15,
   "id": "b20e2ce5",
   "metadata": {},
   "outputs": [
    {
     "name": "stdout",
     "output_type": "stream",
     "text": [
      "[LightGBM] [Warning] feature_fraction is set=0.2319, colsample_bytree=1.0 will be ignored. Current value: feature_fraction=0.2319\n",
      "[LightGBM] [Warning] min_data_in_leaf is set=6, min_child_samples=20 will be ignored. Current value: min_data_in_leaf=6\n",
      "[LightGBM] [Warning] min_sum_hessian_in_leaf is set=11, min_child_weight=0.001 will be ignored. Current value: min_sum_hessian_in_leaf=11\n",
      "[LightGBM] [Warning] bagging_fraction is set=0.8, subsample=1.0 will be ignored. Current value: bagging_fraction=0.8\n",
      "[LightGBM] [Warning] bagging_freq is set=5, subsample_freq=0 will be ignored. Current value: bagging_freq=5\n"
     ]
    },
    {
     "data": {
      "text/plain": [
       "VotingRegressor(estimators=[('lgbgf',\n",
       "                             LGBMRegressor(bagging_fraction=0.8, bagging_freq=5,\n",
       "                                           bagging_seed=9,\n",
       "                                           feature_fraction=0.2319,\n",
       "                                           feature_fraction_seed=9,\n",
       "                                           learning_rate=0.05, max_bin=55,\n",
       "                                           min_data_in_leaf=6,\n",
       "                                           min_sum_hessian_in_leaf=11,\n",
       "                                           n_estimators=720, num_leaves=5,\n",
       "                                           objective='regression')),\n",
       "                            ('xt',\n",
       "                             ExtraTreesRegressor(n_estimators=1000,\n",
       "                                                 random_state=73)),\n",
       "                            ('xgb',...\n",
       "                                          n_estimators=1200, n_jobs=None,\n",
       "                                          num_parallel_tree=None,\n",
       "                                          predictor=None, random_state=73,\n",
       "                                          reg_alpha=None, reg_lambda=None,\n",
       "                                          scale_pos_weight=None, subsample=None,\n",
       "                                          tree_method=None,\n",
       "                                          validate_parameters=None,\n",
       "                                          verbosity=None)),\n",
       "                            ('hgb',\n",
       "                             HistGradientBoostingRegressor(learning_rate=0.02,\n",
       "                                                           loss='least_absolute_deviation',\n",
       "                                                           max_depth=40,\n",
       "                                                           max_iter=750,\n",
       "                                                           min_samples_leaf=2,\n",
       "                                                           random_state=73))])"
      ]
     },
     "execution_count": 15,
     "metadata": {},
     "output_type": "execute_result"
    }
   ],
   "source": [
    "Vote=VotingRegressor([('lgbgf',LGBg_f),('xt',XT),('xgb',XGB),('hgb',HGB_f)])\n",
    "Vote.fit(X_train,y_train)"
   ]
  },
  {
   "cell_type": "code",
   "execution_count": 16,
   "id": "e13acac8",
   "metadata": {},
   "outputs": [
    {
     "name": "stdout",
     "output_type": "stream",
     "text": [
      "Vote_2\n"
     ]
    }
   ],
   "source": [
    "import pickle\n",
    "path = \"reduced_data_models/\"\n",
    "\n",
    "models={\"Vote_2\":Vote}\n",
    "\n",
    "for key,model in models.items():\n",
    " \n",
    "  filename = path + str(key) + \".sav\" \n",
    "  joblib.dump(model, filename)  \n",
    "  print(key)"
   ]
  },
  {
   "cell_type": "code",
   "execution_count": 1,
   "id": "948a86a6",
   "metadata": {},
   "outputs": [
    {
     "name": "stdout",
     "output_type": "stream",
     "text": [
      "Vote_2\n"
     ]
    }
   ],
   "source": [
    "import joblib\n",
    "path = \"reduced_data_models/\"\n",
    "\n",
    "\n",
    "models=[\"Vote_2\"]\n",
    "rmse_dict={}\n",
    "\n",
    "for model in models:\n",
    " \n",
    "  filename = path + str(model) + \".sav\" \n",
    "  m=joblib.load(filename, mmap_mode=None)  \n",
    "  print(model)\n",
    "    "
   ]
  },
  {
   "cell_type": "code",
   "execution_count": 9,
   "id": "893245f5",
   "metadata": {},
   "outputs": [
    {
     "ename": "IndexError",
     "evalue": "index 20000 is out of bounds for axis 0 with size 18537",
     "output_type": "error",
     "traceback": [
      "\u001b[1;31m---------------------------------------------------------------------------\u001b[0m",
      "\u001b[1;31mIndexError\u001b[0m                                Traceback (most recent call last)",
      "\u001b[1;32m<ipython-input-9-bc167a4c0dd5>\u001b[0m in \u001b[0;36m<module>\u001b[1;34m\u001b[0m\n\u001b[0;32m      5\u001b[0m \u001b[0my_predicted\u001b[0m\u001b[1;33m=\u001b[0m\u001b[0mm\u001b[0m\u001b[1;33m.\u001b[0m\u001b[0mpredict\u001b[0m\u001b[1;33m(\u001b[0m\u001b[0mX_test\u001b[0m\u001b[1;33m)\u001b[0m\u001b[1;33m\u001b[0m\u001b[1;33m\u001b[0m\u001b[0m\n\u001b[0;32m      6\u001b[0m \u001b[1;32mfor\u001b[0m \u001b[0mi\u001b[0m \u001b[1;32min\u001b[0m \u001b[0mrange\u001b[0m\u001b[1;33m(\u001b[0m\u001b[1;36m20000\u001b[0m\u001b[1;33m,\u001b[0m\u001b[1;36m20500\u001b[0m\u001b[1;33m)\u001b[0m\u001b[1;33m:\u001b[0m\u001b[1;33m\u001b[0m\u001b[1;33m\u001b[0m\u001b[0m\n\u001b[1;32m----> 7\u001b[1;33m     \u001b[0mpower_df\u001b[0m \u001b[1;33m=\u001b[0m \u001b[0mpower_df\u001b[0m\u001b[1;33m.\u001b[0m\u001b[0mappend\u001b[0m\u001b[1;33m(\u001b[0m\u001b[1;33m{\u001b[0m\u001b[1;34m'Power_Actual'\u001b[0m\u001b[1;33m:\u001b[0m\u001b[0mdf\u001b[0m\u001b[1;33m[\u001b[0m\u001b[1;34m\"Power\"\u001b[0m\u001b[1;33m]\u001b[0m\u001b[1;33m.\u001b[0m\u001b[0miloc\u001b[0m\u001b[1;33m[\u001b[0m\u001b[0mi\u001b[0m\u001b[1;33m]\u001b[0m\u001b[1;33m,\u001b[0m \u001b[1;34m'Power_Predicted'\u001b[0m\u001b[1;33m:\u001b[0m\u001b[0my_predicted\u001b[0m\u001b[1;33m[\u001b[0m\u001b[0mi\u001b[0m\u001b[1;33m]\u001b[0m\u001b[1;33m}\u001b[0m\u001b[1;33m,\u001b[0m \u001b[0mignore_index\u001b[0m\u001b[1;33m=\u001b[0m\u001b[1;32mTrue\u001b[0m\u001b[1;33m)\u001b[0m\u001b[1;33m\u001b[0m\u001b[1;33m\u001b[0m\u001b[0m\n\u001b[0m\u001b[0;32m      8\u001b[0m \u001b[1;33m\u001b[0m\u001b[0m\n\u001b[0;32m      9\u001b[0m \u001b[1;33m\u001b[0m\u001b[0m\n",
      "\u001b[1;31mIndexError\u001b[0m: index 20000 is out of bounds for axis 0 with size 18537"
     ]
    }
   ],
   "source": [
    "from sklearn.metrics import mean_squared_error\n",
    "from math import sqrt\n",
    "power_df = pd.DataFrame(columns=['Power_Actual','Power_Predicted'])\n",
    "\n",
    "y_predicted=m.predict(X_test)\n",
    "power_df = power_df.append({'Timestamp':copy_df['Tim,'Power_Actual':copy_df[\"Power\"].iloc[i], 'Power_Calculated':p}, ignore_index=True)\n",
    "\n",
    "\n",
    "rmse = sqrt(mean_squared_error(y_test, y_predicted))\n",
    "print(rmse)\n",
    "rmse_dict[model]=rmse\n",
    "print(model)\n",
    "m=0"
   ]
  },
  {
   "cell_type": "markdown",
   "id": "e9aaad5f",
   "metadata": {},
   "source": [
    "340.62451559534594\n",
    "Vote_2"
   ]
  },
  {
   "cell_type": "code",
   "execution_count": null,
   "id": "cc33a1d2",
   "metadata": {},
   "outputs": [],
   "source": []
  }
 ],
 "metadata": {
  "kernelspec": {
   "display_name": "Python 3",
   "language": "python",
   "name": "python3"
  },
  "language_info": {
   "codemirror_mode": {
    "name": "ipython",
    "version": 3
   },
   "file_extension": ".py",
   "mimetype": "text/x-python",
   "name": "python",
   "nbconvert_exporter": "python",
   "pygments_lexer": "ipython3",
   "version": "3.9.5"
  }
 },
 "nbformat": 4,
 "nbformat_minor": 5
}
