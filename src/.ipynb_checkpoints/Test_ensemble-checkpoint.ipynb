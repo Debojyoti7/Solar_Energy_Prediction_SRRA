{
 "cells": [
  {
   "cell_type": "code",
   "execution_count": null,
   "id": "e36acc3e",
   "metadata": {},
   "outputs": [],
   "source": [
    "import pickle\n",
    "import joblib\n",
    "from sklearn.metrics import mean_squared_error\n",
    "from math import sqrt\n"
   ]
  },
  {
   "cell_type": "code",
   "execution_count": null,
   "id": "82ab4743",
   "metadata": {},
   "outputs": [],
   "source": [
    "model_path = \"\""
   ]
  },
  {
   "cell_type": "code",
   "execution_count": null,
   "id": "10ab4a1f",
   "metadata": {},
   "outputs": [],
   "source": [
    "\n",
    "csv1 = \"solar_dataset.csv\"\n",
    "df = pd.read_csv(csv1)\n",
    "df.head(2)"
   ]
  },
  {
   "cell_type": "code",
   "execution_count": null,
   "id": "b5d514c7",
   "metadata": {},
   "outputs": [],
   "source": [
    "df = df[df['Power'] >= 500] "
   ]
  },
  {
   "cell_type": "code",
   "execution_count": null,
   "id": "8d89f159",
   "metadata": {},
   "outputs": [],
   "source": [
    "column_to_drop=['Dew_Point_Avg',\n",
    " 'Rain_Accu_mm',\n",
    " 'Atmospheric_Pressure_QNH_Avg',\n",
    " 'Atmospheric_Pressure_QFE_Avg',\n",
    " 'Direct_Theoretical_Radiation_Avg',\n",
    " 'Horizontal_Solar_Radiation_Avg',\n",
    " 'Global_Energy_Avg',\n",
    " 'Diffuse_Energy_Avg',\n",
    " 'Direct_Energy_Avg',\n",
    " 'Wind_Direction_Avg']\n",
    "df=df.drop(column_to_drop,axis=1)"
   ]
  },
  {
   "cell_type": "code",
   "execution_count": null,
   "id": "fdbf1744",
   "metadata": {},
   "outputs": [],
   "source": [
    "df.columns"
   ]
  },
  {
   "cell_type": "code",
   "execution_count": null,
   "id": "e6ca528c",
   "metadata": {},
   "outputs": [],
   "source": [
    "def split_data(df):\n",
    "    X = df.drop(columns=['Power'])\n",
    "    pac = df['Power'].values\n",
    "    train_size = int(0.8*len(pac)) ##80% train \n",
    "    X_train ,  X_test  =   X.iloc[:train_size,:],   X.iloc[train_size:,:];\n",
    "    pac_train, pac_test= pac[:train_size],   pac[train_size:];    \n",
    "    ix = pac_test > 0\n",
    "    pac_test = pac_test[ix]\n",
    "    X_test = X_test[ix]\n",
    "    return X_train, X_test, pac_train, pac_test;\n",
    "\n",
    "X_train, X_test, y_train, y_test = split_data(df)"
   ]
  },
  {
   "cell_type": "code",
   "execution_count": null,
   "id": "50380f2d",
   "metadata": {},
   "outputs": [],
   "source": [
    "\n",
    "models=[\"HGB_f\",\"XGB\",\"GB_f\",\"LGBg_f\",\"XT\",\"RF_f\",\"Ada_f\",\"Vote\",\"Stack\"]\n",
    "\n",
    "\n",
    "rmse_dict={}\n",
    "\n",
    "for model in models:\n",
    " \n",
    "  filename = model_path + str(model) + \".sav\" \n",
    "  m=joblib.load(filename, mmap_mode=None)    \n",
    "  y_predicted=m.predict(X_test)\n",
    "  rmse = sqrt(mean_squared_error(y_test, y_predicted))\n",
    "  print(rmse)\n",
    "  rmse_dict[model]=rmse\n",
    "  print(model)\n",
    "  m=0\n"
   ]
  },
  {
   "cell_type": "code",
   "execution_count": null,
   "id": "8d3fb166",
   "metadata": {},
   "outputs": [],
   "source": [
    "model_name_list=list(rmse_dict.keys())#[\"Stacking Regressor\",\"Voting Regressor\",\"nb\",\"HGB_f\",\"XGB\",\"GB_f\",\"LGBg_f\",\"XT\",\"RF_f\",\"Ada_f\"]\n",
    "results = pd.DataFrame(columns=['RMSE'], index = model_name_list)\n",
    "for i in range(0, len(model_name_list)):\n",
    "  results.iloc[i, :] = [rmse_dict[model_name_list[i]]]\n",
    "results\n",
    "results.sort_values(\"RMSE\")"
   ]
  },
  {
   "cell_type": "code",
   "execution_count": null,
   "id": "cf8ba2b9",
   "metadata": {},
   "outputs": [],
   "source": []
  },
  {
   "cell_type": "code",
   "execution_count": null,
   "id": "e86a3d1d",
   "metadata": {},
   "outputs": [],
   "source": []
  },
  {
   "cell_type": "code",
   "execution_count": null,
   "id": "bb328b65",
   "metadata": {},
   "outputs": [],
   "source": []
  }
 ],
 "metadata": {
  "kernelspec": {
   "display_name": "Python 3 (ipykernel)",
   "language": "python",
   "name": "python3"
  },
  "language_info": {
   "codemirror_mode": {
    "name": "ipython",
    "version": 3
   },
   "file_extension": ".py",
   "mimetype": "text/x-python",
   "name": "python",
   "nbconvert_exporter": "python",
   "pygments_lexer": "ipython3",
   "version": "3.9.12"
  }
 },
 "nbformat": 4,
 "nbformat_minor": 5
}
