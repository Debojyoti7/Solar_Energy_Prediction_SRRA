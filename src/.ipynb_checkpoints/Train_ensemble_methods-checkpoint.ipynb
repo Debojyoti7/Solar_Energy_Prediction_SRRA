{
 "cells": [
  {
   "cell_type": "code",
   "execution_count": null,
   "id": "78790a5b",
   "metadata": {},
   "outputs": [],
   "source": [
    "import numpy as np \n",
    "import pandas as pd \n",
    "import os\n",
    "import pickle\n",
    "from sklearn.model_selection import train_test_split\n",
    "from sklearn.metrics import mean_squared_error\n",
    "import math\n",
    "import seaborn as sns\n",
    "import matplotlib.pyplot as plt\n",
    "\n",
    "from xgboost import XGBRegressor\n",
    "from sklearn.model_selection import GridSearchCV, RandomizedSearchCV\n",
    "from sklearn.tree import DecisionTreeRegressor\n",
    "from sklearn.experimental import enable_hist_gradient_boosting\n",
    "from sklearn.ensemble import RandomForestRegressor, GradientBoostingRegressor, AdaBoostRegressor, HistGradientBoostingRegressor, VotingRegressor, StackingRegressor, ExtraTreesRegressor\n",
    "from lightgbm import LGBMRegressor\n",
    "from sklearn.naive_bayes import GaussianNB\n"
   ]
  },
  {
   "cell_type": "code",
   "execution_count": null,
   "id": "02426c85",
   "metadata": {},
   "outputs": [],
   "source": [
    "model_path = \"\"\n"
   ]
  },
  {
   "cell_type": "markdown",
   "id": "46998290",
   "metadata": {},
   "source": [
    "# Read Dataset"
   ]
  },
  {
   "cell_type": "code",
   "execution_count": null,
   "id": "f0797575",
   "metadata": {},
   "outputs": [],
   "source": [
    "\n",
    "csv1 = \"solar_dataset.csv\"\n",
    "df = pd.read_csv(csv1)\n",
    "df.head(2)"
   ]
  },
  {
   "cell_type": "markdown",
   "id": "bb2ffcfd",
   "metadata": {},
   "source": [
    "# Drop Dimentions as per Analysis"
   ]
  },
  {
   "cell_type": "code",
   "execution_count": null,
   "id": "faa357fc",
   "metadata": {},
   "outputs": [],
   "source": [
    "df = df[df['Power'] >= 500] "
   ]
  },
  {
   "cell_type": "code",
   "execution_count": null,
   "id": "33596033",
   "metadata": {},
   "outputs": [],
   "source": [
    "column_to_drop=['Dew_Point_Avg',\n",
    " 'Rain_Accu_mm',\n",
    " 'Atmospheric_Pressure_QNH_Avg',\n",
    " 'Atmospheric_Pressure_QFE_Avg',\n",
    " 'Direct_Theoretical_Radiation_Avg',\n",
    " 'Horizontal_Solar_Radiation_Avg',\n",
    " 'Global_Energy_Avg',\n",
    " 'Diffuse_Energy_Avg',\n",
    " 'Direct_Energy_Avg',\n",
    " 'Wind_Direction_Avg']\n",
    "df=df.drop(column_to_drop,axis=1)"
   ]
  },
  {
   "cell_type": "code",
   "execution_count": null,
   "id": "9413e0c1",
   "metadata": {},
   "outputs": [],
   "source": [
    "df.columns"
   ]
  },
  {
   "cell_type": "code",
   "execution_count": null,
   "id": "cbd5464a",
   "metadata": {},
   "outputs": [],
   "source": [
    "df.shape"
   ]
  },
  {
   "cell_type": "markdown",
   "id": "aab00b9c",
   "metadata": {},
   "source": [
    "# Spilt Data"
   ]
  },
  {
   "cell_type": "code",
   "execution_count": null,
   "id": "a2344289",
   "metadata": {},
   "outputs": [],
   "source": [
    "def split_data(df):\n",
    "    X = df.drop(columns=['Power'])\n",
    "    pac = df['Power'].values\n",
    "    train_size = int(0.8*len(pac)) ##80% train \n",
    "    X_train ,  X_test  =   X.iloc[:train_size,:],   X.iloc[train_size:,:];\n",
    "    pac_train, pac_test= pac[:train_size],   pac[train_size:];    \n",
    "    ix = pac_test > 0\n",
    "    pac_test = pac_test[ix]\n",
    "    X_test = X_test[ix]\n",
    "    return X_train, X_test, pac_train, pac_test;\n",
    "\n",
    "X_train, X_test, y_train, y_test = split_data(df)"
   ]
  },
  {
   "cell_type": "code",
   "execution_count": null,
   "id": "c0007895",
   "metadata": {},
   "outputs": [],
   "source": [
    "RF_f=RandomForestRegressor(bootstrap=False, max_depth=60, max_features='sqrt', min_samples_split=4, n_estimators=1700)\n",
    "RF_f.fit(X_train,y_train)"
   ]
  },
  {
   "cell_type": "code",
   "execution_count": null,
   "id": "863b8a0b",
   "metadata": {},
   "outputs": [],
   "source": [
    "XT=ExtraTreesRegressor(n_estimators=1000,random_state=73)\n",
    "XT.fit(X_train,y_train)"
   ]
  },
  {
   "cell_type": "code",
   "execution_count": null,
   "id": "f9fd5dde",
   "metadata": {},
   "outputs": [],
   "source": [
    "Ada_f=AdaBoostRegressor(learning_rate=0.03, loss='exponential', n_estimators=2300, random_state=73)\n",
    "Ada_f.fit(X_train,y_train)\n"
   ]
  },
  {
   "cell_type": "code",
   "execution_count": null,
   "id": "47c4a9e3",
   "metadata": {},
   "outputs": [],
   "source": [
    "GB_f=GradientBoostingRegressor(max_depth=10, max_features='sqrt',\n",
    "                          min_samples_split=12, n_estimators=1500)\n",
    "GB_f.fit(X_train,y_train)\n"
   ]
  },
  {
   "cell_type": "code",
   "execution_count": null,
   "id": "d0ec640e",
   "metadata": {},
   "outputs": [],
   "source": [
    "HGB_f=HistGradientBoostingRegressor(learning_rate=0.02, loss='least_absolute_deviation', max_depth=40, max_iter=750, min_samples_leaf=2, random_state=73)\n",
    "HGB_f.fit(X_train,y_train)"
   ]
  },
  {
   "cell_type": "code",
   "execution_count": null,
   "id": "902ad1b9",
   "metadata": {},
   "outputs": [],
   "source": [
    "XGB=XGBRegressor(n_estimators=1200,learning_rate=0.05,random_state=73)\n",
    "XGB.fit(X_train,y_train)\n"
   ]
  },
  {
   "cell_type": "code",
   "execution_count": null,
   "id": "65852a36",
   "metadata": {},
   "outputs": [],
   "source": [
    "LGBg_f=LGBMRegressor(objective='regression',num_leaves=5,  learning_rate=0.05, n_estimators=720, max_bin = 55, bagging_fraction = 0.8,\n",
    "                              bagging_freq = 5, feature_fraction = 0.2319,\n",
    "                              feature_fraction_seed=9, bagging_seed=9,\n",
    "                              min_data_in_leaf =6, min_sum_hessian_in_leaf = 11)\n",
    "LGBg_f.fit(X_train,y_train)"
   ]
  },
  {
   "cell_type": "code",
   "execution_count": null,
   "id": "e6b4f1b2",
   "metadata": {},
   "outputs": [],
   "source": [
    "estimators=[('lgbgf',LGBg_f),('xt',XT),('xgb',XGB),('hgb',HGB_f)]\n",
    "Stack=StackingRegressor(estimators=estimators,final_estimator=HGB_f)\n",
    "Stack.fit(X_train,y_train)\n"
   ]
  },
  {
   "cell_type": "code",
   "execution_count": null,
   "id": "b56b3f08",
   "metadata": {},
   "outputs": [],
   "source": [
    "Vote=VotingRegressor([('lgbgf',LGBg_f),('xt',XT),('xgb',XGB),('hgb',HGB_f)])\n",
    "Vote.fit(X_train,y_train)"
   ]
  },
  {
   "cell_type": "markdown",
   "id": "ff048a7b",
   "metadata": {},
   "source": [
    "# Save the Models"
   ]
  },
  {
   "cell_type": "code",
   "execution_count": null,
   "id": "89bb8106",
   "metadata": {},
   "outputs": [],
   "source": [
    "\n",
    "\n",
    "models={\"Ada_f\":Ada_f,\"XT\":XT,\"RF_f\":RF_f,\"HGB_f\":HGB_f,\"XGB\":XGB,\"GB_f\":GB_f,\"LGBg_f\":LGBg_f,\"Vote\":Vote,\"Stack\":Stack}\n",
    "\n",
    "for key,model in models.items():\n",
    "  filename = path + str(key) + \".sav\" \n",
    "  joblib.dump(model, filename)  \n",
    "  print(key)"
   ]
  }
 ],
 "metadata": {
  "kernelspec": {
   "display_name": "Python 3 (ipykernel)",
   "language": "python",
   "name": "python3"
  },
  "language_info": {
   "codemirror_mode": {
    "name": "ipython",
    "version": 3
   },
   "file_extension": ".py",
   "mimetype": "text/x-python",
   "name": "python",
   "nbconvert_exporter": "python",
   "pygments_lexer": "ipython3",
   "version": "3.9.12"
  }
 },
 "nbformat": 4,
 "nbformat_minor": 5
}
