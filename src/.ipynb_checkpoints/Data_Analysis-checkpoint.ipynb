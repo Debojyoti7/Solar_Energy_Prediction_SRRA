{
 "cells": [
  {
   "cell_type": "markdown",
   "metadata": {},
   "source": [
    "# Import required Libraries And Dataset"
   ]
  },
  {
   "cell_type": "code",
   "execution_count": null,
   "metadata": {},
   "outputs": [],
   "source": [
    "import numpy as np \n",
    "import pandas as pd\n",
    "import matplotlib.pyplot as plt\n",
    "import math\n",
    "import matplotlib\n",
    "from sklearn.preprocessing import MinMaxScaler\n",
    "from sklearn.linear_model import Lasso\n",
    "from sklearn.linear_model import ElasticNet\n",
    "from IPython.core.pylabtools import figsize\n",
    "import seaborn as sns"
   ]
  },
  {
   "cell_type": "code",
   "execution_count": null,
   "metadata": {},
   "outputs": [],
   "source": [
    "data_path=\"solar_dataset.csv\"\n",
    "power_threshold=500\n",
    "tt_ratio=0.8"
   ]
  },
  {
   "cell_type": "markdown",
   "metadata": {},
   "source": [
    "Read DataSet (Provide location of the dataset)"
   ]
  },
  {
   "cell_type": "code",
   "execution_count": null,
   "metadata": {},
   "outputs": [],
   "source": [
    "\n",
    "\n",
    "csv_file = data_path\n",
    "df = pd.read_csv(csv_file)\n"
   ]
  },
  {
   "cell_type": "markdown",
   "metadata": {},
   "source": [
    " Print the dataframe to check the structure"
   ]
  },
  {
   "cell_type": "code",
   "execution_count": null,
   "metadata": {},
   "outputs": [],
   "source": [
    "df.head(5)"
   ]
  },
  {
   "cell_type": "markdown",
   "metadata": {},
   "source": [
    "Set a Threshold of Power as data below a certain threshold affects the prediction"
   ]
  },
  {
   "cell_type": "code",
   "execution_count": null,
   "metadata": {},
   "outputs": [],
   "source": [
    "df = df[df['Power'] >= power_threshold] "
   ]
  },
  {
   "cell_type": "code",
   "execution_count": null,
   "metadata": {},
   "outputs": [],
   "source": [
    "df.columns"
   ]
  },
  {
   "cell_type": "code",
   "execution_count": null,
   "metadata": {},
   "outputs": [],
   "source": [
    "\n",
    "columns_to_drop_1=['Timestamp','Solar_Elevation_Avg','Day', 'Direct_Radiation_Integr', 'Direct_Radiation_Ins','Solar_Azimuth_Ins','Solar_Elevation_Ins',\n",
    "            'Inclined_Solar_Radiation_Integr','Inclined_Solar_Radiation_Ins', 'Horizontal_Solar_Radiation_Integr','Horizontal_Solar_Radiation_Ins',\n",
    "            'Diffuse_Radiation_Integr','Diffuse_Radiation_Ins','Global_Radiation_Integr',  'Global_Radiation_Ins',  'Wind_Direction_Max', 'Wind_Direction_Sdev', 'Wind_Speed_Max', 'Wind_Speed_Sdev','Air_Temperature_Max', 'Air_Temperature_Min',\n",
    "            'Battery_Level_Avg','Pyrheliometer_Error_Avg','Geotrac3K_Status_Logic_OR_Status',  'Access_Control_Logic_OR_Status']\n",
    "\n",
    "df=df.drop(columns_to_drop_1,axis=1)"
   ]
  },
  {
   "cell_type": "code",
   "execution_count": null,
   "metadata": {},
   "outputs": [],
   "source": [
    "df.columns"
   ]
  },
  {
   "cell_type": "code",
   "execution_count": null,
   "metadata": {},
   "outputs": [],
   "source": [
    "\n",
    "df.rename(columns = {'Horizontal_Solar_Radiation_Avg':'HSR_Avg','Relative_Humidity_Avg':'RH_Avg','Rain_Accu_mm':'RA_mm',\n",
    "                     'Air_Temperature_Avg':'AT_Avg','Wind_Speed_Avg':'WS_Avg','Wind_Direction_Avg':'WD_Avg','Dew_Point_Avg':'DP_Avg',\n",
    "                    'Global_Radiation_Avg':'GR_Avg','Diffuse_Radiation_Avg':'DiffR_Avg','Atmospheric_Pressure_QNH_Avg':'AP_QNH_Avg',\n",
    "                    'Atmospheric_Pressure_QFE_Avg':'AP_QFE_Avg','Direct_Radiation_Avg':'DirR_Avg','Inclined_Solar_Radiation_Avg':'ISR_Avg',\n",
    "                    'Solar_Azimuth_Avg':'SA_Avg','Direct_Theoretical_Radiation_Avg':'DTR_Avg','Global_Energy_Avg':'GE_Avg',\n",
    "                    'Diffuse_Energy_Avg':'DiffE_Avg','Direct_Energy_Avg':'DirE_Avg'}, inplace = True)"
   ]
  },
  {
   "cell_type": "code",
   "execution_count": null,
   "metadata": {
    "scrolled": true
   },
   "outputs": [],
   "source": [
    "df.columns"
   ]
  },
  {
   "cell_type": "markdown",
   "metadata": {},
   "source": [
    "# Data Transformation"
   ]
  },
  {
   "cell_type": "code",
   "execution_count": null,
   "metadata": {},
   "outputs": [],
   "source": [
    "\n",
    "scaler = MinMaxScaler() \n",
    "scaled_values = scaler.fit_transform(df) \n",
    "df.loc[:,:] = scaled_values"
   ]
  },
  {
   "cell_type": "code",
   "execution_count": null,
   "metadata": {},
   "outputs": [],
   "source": [
    "def split_data(df):\n",
    "    X = df.drop(columns=['Power'])\n",
    "    pac = df['Power'].values\n",
    "    train_size = int(tt_ratio*len(pac)) \n",
    "    X_train ,  X_test  =   X.iloc[:train_size,:],   X.iloc[train_size:,:]\n",
    "    pac_train, pac_test= pac[:train_size],   pac[train_size:]   \n",
    "    ix = pac_test > 0\n",
    "    pac_test = pac_test[ix]\n",
    "    X_test = X_test[ix]\n",
    "    return X_train, X_test, pac_train, pac_test;\n",
    "\n",
    "X_train, X_test, y_train, y_test = split_data(df)"
   ]
  },
  {
   "cell_type": "code",
   "execution_count": null,
   "metadata": {},
   "outputs": [],
   "source": [
    "lasso = Lasso(alpha = 0.00001)\n",
    "lasso.fit(X_train, y_train)\n",
    "y_pred_lasso = lasso.predict(X_test)\n",
    "lasso_coeff = pd.DataFrame({'Feature Importance':lasso.coef_}, index=df.columns[:-1])\n",
    "lasso_coeff=lasso_coeff.sort_values('Feature Importance', ascending=True)"
   ]
  },
  {
   "cell_type": "markdown",
   "metadata": {},
   "source": [
    "Print and observe lasso coeeficients"
   ]
  },
  {
   "cell_type": "code",
   "execution_count": null,
   "metadata": {},
   "outputs": [],
   "source": [
    "lasso_coeff"
   ]
  },
  {
   "cell_type": "markdown",
   "metadata": {},
   "source": [
    "Print features whose lasso coeeficient is zero"
   ]
  },
  {
   "cell_type": "code",
   "execution_count": null,
   "metadata": {},
   "outputs": [],
   "source": [
    "lasso_coeff[lasso_coeff['Feature Importance']==0].sort_values('Feature Importance')"
   ]
  },
  {
   "cell_type": "code",
   "execution_count": null,
   "metadata": {},
   "outputs": [],
   "source": [
    "e_net = ElasticNet(alpha = 0.00001)\n",
    "e_net.fit(X_train, y_train)\n",
    "e_net_coeff = pd.DataFrame({'Feature Importance':e_net.coef_}, index=df.columns[:-1])\n",
    "e_net_coeff=e_net_coeff.sort_values('Feature Importance', ascending=True)"
   ]
  },
  {
   "cell_type": "code",
   "execution_count": null,
   "metadata": {},
   "outputs": [],
   "source": [
    "e_net_coeff"
   ]
  },
  {
   "cell_type": "code",
   "execution_count": null,
   "metadata": {},
   "outputs": [],
   "source": [
    "e_net_coeff[e_net_coeff['Feature Importance']==0].sort_values('Feature Importance')"
   ]
  },
  {
   "cell_type": "code",
   "execution_count": null,
   "metadata": {},
   "outputs": [],
   "source": [
    "figsize(12, 10)\n",
    "matplotlib.rcParams['font.size'] = 16\n",
    "\n",
    "g = lasso_coeff['Feature Importance'].plot(kind='barh',figsize=(20,12), color='#8f63f4')\n",
    "plt.title(\"Lasso Feature Importance Plot\",fontsize=20)\n",
    "plt.savefig(fname=\"Lasso_Feature_importance_plot\",dpi=300)"
   ]
  },
  {
   "cell_type": "code",
   "execution_count": null,
   "metadata": {},
   "outputs": [],
   "source": [
    "figsize(12, 10)\n",
    "matplotlib.rcParams['font.size'] = 16\n",
    "\n",
    "g = e_net_coeff['Feature Importance'].plot(kind='barh',figsize=(20,12), color='#FFA500')\n",
    "plt.title(\"Elastic Net Feature Importance Plot\",fontsize=20)\n",
    "plt.savefig(fname=\"E_net_Feature_importance_plot\",dpi=300)"
   ]
  },
  {
   "cell_type": "code",
   "execution_count": null,
   "metadata": {},
   "outputs": [],
   "source": [
    "column_to_drop=[]\n",
    "column_to_drop+=['AP_QFE_Avg','RA_mm','DP_Avg','AP_QNH_Avg']\n",
    "df=df.drop(column_to_drop,axis=1)"
   ]
  },
  {
   "cell_type": "code",
   "execution_count": null,
   "metadata": {},
   "outputs": [],
   "source": [
    "matplotlib.rcParams['font.size'] = 10\n",
    "corr = df.iloc[:,:-1].corr()\n",
    "plt.figure(figsize=(12,10))\n",
    "sns.heatmap(corr, annot=True, square=True);\n",
    "plt.title(\"Correlation Matrix Heatmap\",fontsize=20)\n",
    "plt.savefig(fname=\"Correlation_Matrix_Heatmap_brfore_feature_removal\",dpi=300)"
   ]
  },
  {
   "cell_type": "code",
   "execution_count": null,
   "metadata": {},
   "outputs": [],
   "source": [
    "column_to_drop_2=['HSR_Avg','GE_Avg','DiffE_Avg','DirE_Avg','DTR_Avg']\n",
    "df=df.drop(column_to_drop_2,axis=1)"
   ]
  },
  {
   "cell_type": "code",
   "execution_count": null,
   "metadata": {},
   "outputs": [],
   "source": [
    "matplotlib.rcParams['font.size'] = 14\n",
    "corr = df.iloc[:,:-1].corr()\n",
    "plt.figure(figsize=(12,10))\n",
    "sns.heatmap(corr, annot=True, square=True);\n",
    "plt.title(\"Correlation Matrix Heatmap After Dimentionality Reduction\",fontsize=20)\n",
    "plt.savefig(fname=\"Correlation_Matrix_Heatmap_afyter_feature_removal\",dpi=300)"
   ]
  },
  {
   "cell_type": "code",
   "execution_count": null,
   "metadata": {},
   "outputs": [],
   "source": [
    "fig, ax = plt.subplots()\n",
    "sns.kdeplot(data=df['Power'].squeeze(), ax=ax, color='red', shade=True, label='Power')\n",
    "sns.kdeplot(data=df['RH_Avg'].squeeze(), ax=ax, color='lightgreen', shade=True, label='Relative Humidity Avg')\n",
    "sns.kdeplot(data=df['AT_Avg'].squeeze(), ax=ax, color='gold', shade=True,label='Air Temperature Avg')\n",
    "sns.kdeplot(data=df['WS_Avg'].squeeze(), ax=ax, color='purple',shade=True, label='Global Radiation Avg')\n",
    "sns.kdeplot(data=df['GR_Avg'].squeeze(), ax=ax, color='red',shade=True, label='Wind Speed Avg')\n",
    "sns.kdeplot(data=df['DiffR_Avg'].squeeze(), ax=ax, color='blue',shade=True, label='Diffuse Radiation Avg')\n",
    "sns.kdeplot(data=df['DirR_Avg'].squeeze(), ax=ax, color='pink',shade=True, label='Direct Radiation Avg')\n",
    "sns.kdeplot(data=df['ISR_Avg'].squeeze(), ax=ax, color='brown',shade=True, label='Inclined Solar Radiation Avg')\n",
    "sns.kdeplot(data=df['SA_Avg'].squeeze(), ax=ax, color='darkgreen',shade=True, label='Solar Azimuth Avg')\n",
    "sns.kdeplot(data=df['WD_Avg'].squeeze(), ax=ax, color='grey',shade=True, label='Wind Direction Avg')\n",
    "plt.xlabel('Normalized Feature', fontsize=18)\n",
    "ax.legend(bbox_to_anchor=(1, 1), loc='upper right')\n",
    "plt.tight_layout()\n",
    "plt.title(\"Feature Distribution Plot\",fontsize=20)\n",
    "plt.savefig(fname=\"F_dis_thres\",dpi=300)\n",
    "plt.show()"
   ]
  }
 ],
 "metadata": {
  "kernelspec": {
   "display_name": "Python 3 (ipykernel)",
   "language": "python",
   "name": "python3"
  },
  "language_info": {
   "codemirror_mode": {
    "name": "ipython",
    "version": 3
   },
   "file_extension": ".py",
   "mimetype": "text/x-python",
   "name": "python",
   "nbconvert_exporter": "python",
   "pygments_lexer": "ipython3",
   "version": "3.9.12"
  }
 },
 "nbformat": 4,
 "nbformat_minor": 4
}
